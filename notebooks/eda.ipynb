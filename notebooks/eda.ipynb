{
 "cells": [
  {
   "cell_type": "markdown",
   "id": "31790234",
   "metadata": {},
   "source": [
    "# Cats vs Dogs EDA"
   ]
  },
  {
   "cell_type": "code",
   "execution_count": null,
   "id": "47681930",
   "metadata": {
    "vscode": {
     "languageId": "plaintext"
    }
   },
   "outputs": [],
   "source": []
  }
 ],
 "metadata": {
  "language_info": {
   "name": "python"
  }
 },
 "nbformat": 4,
 "nbformat_minor": 5
}
